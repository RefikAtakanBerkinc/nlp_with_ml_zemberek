{
  "nbformat": 4,
  "nbformat_minor": 0,
  "metadata": {
    "colab": {
      "provenance": [],
      "machine_shape": "hm"
    },
    "kernelspec": {
      "name": "python3",
      "display_name": "Python 3"
    },
    "language_info": {
      "name": "python"
    }
  },
  "cells": [
    {
      "cell_type": "code",
      "execution_count": null,
      "metadata": {
        "id": "3ltfK6Ih-VR0",
        "colab": {
          "base_uri": "https://localhost:8080/"
        },
        "outputId": "e1485848-30fb-4bd1-f202-8e41ca57d716"
      },
      "outputs": [
        {
          "output_type": "stream",
          "name": "stdout",
          "text": [
            "Requirement already satisfied: jpype1 in /usr/local/lib/python3.10/dist-packages (1.5.1)\n",
            "Requirement already satisfied: packaging in /usr/local/lib/python3.10/dist-packages (from jpype1) (24.2)\n",
            "Requirement already satisfied: zemberek-python in /usr/local/lib/python3.10/dist-packages (0.2.3)\n",
            "Requirement already satisfied: antlr4-python3-runtime==4.8 in /usr/local/lib/python3.10/dist-packages (from zemberek-python) (4.8)\n",
            "Requirement already satisfied: numpy>=1.19.0 in /usr/local/lib/python3.10/dist-packages (from zemberek-python) (1.24.4)\n"
          ]
        }
      ],
      "source": [
        "# Zemberek-Python paketini yükleyin\n",
        "# JPype'i yükleyin\n",
        "\n",
        "!pip install jpype1\n",
        "!pip install zemberek-python"
      ]
    },
    {
      "cell_type": "code",
      "source": [
        "!pip install gensim==4.3.0\n"
      ],
      "metadata": {
        "colab": {
          "base_uri": "https://localhost:8080/"
        },
        "id": "3awvSYroMHXL",
        "outputId": "399b345f-20fd-401e-e32b-45eb96ba9b29"
      },
      "execution_count": null,
      "outputs": [
        {
          "output_type": "stream",
          "name": "stdout",
          "text": [
            "Requirement already satisfied: gensim==4.3.0 in /usr/local/lib/python3.10/dist-packages (4.3.0)\n",
            "Requirement already satisfied: numpy>=1.18.5 in /usr/local/lib/python3.10/dist-packages (from gensim==4.3.0) (1.24.4)\n",
            "Requirement already satisfied: scipy>=1.7.0 in /usr/local/lib/python3.10/dist-packages (from gensim==4.3.0) (1.10.1)\n",
            "Requirement already satisfied: smart-open>=1.8.1 in /usr/local/lib/python3.10/dist-packages (from gensim==4.3.0) (7.1.0)\n",
            "Requirement already satisfied: FuzzyTM>=0.4.0 in /usr/local/lib/python3.10/dist-packages (from gensim==4.3.0) (2.0.9)\n",
            "Requirement already satisfied: pandas in /usr/local/lib/python3.10/dist-packages (from FuzzyTM>=0.4.0->gensim==4.3.0) (1.5.3)\n",
            "Requirement already satisfied: pyfume in /usr/local/lib/python3.10/dist-packages (from FuzzyTM>=0.4.0->gensim==4.3.0) (0.3.4)\n",
            "Requirement already satisfied: wrapt in /usr/local/lib/python3.10/dist-packages (from smart-open>=1.8.1->gensim==4.3.0) (1.17.0)\n",
            "Requirement already satisfied: python-dateutil>=2.8.1 in /usr/local/lib/python3.10/dist-packages (from pandas->FuzzyTM>=0.4.0->gensim==4.3.0) (2.8.2)\n",
            "Requirement already satisfied: pytz>=2020.1 in /usr/local/lib/python3.10/dist-packages (from pandas->FuzzyTM>=0.4.0->gensim==4.3.0) (2024.2)\n",
            "Requirement already satisfied: simpful==2.12.0 in /usr/local/lib/python3.10/dist-packages (from pyfume->FuzzyTM>=0.4.0->gensim==4.3.0) (2.12.0)\n",
            "Requirement already satisfied: fst-pso==1.8.1 in /usr/local/lib/python3.10/dist-packages (from pyfume->FuzzyTM>=0.4.0->gensim==4.3.0) (1.8.1)\n",
            "Requirement already satisfied: miniful in /usr/local/lib/python3.10/dist-packages (from fst-pso==1.8.1->pyfume->FuzzyTM>=0.4.0->gensim==4.3.0) (0.0.6)\n",
            "Requirement already satisfied: six>=1.5 in /usr/local/lib/python3.10/dist-packages (from python-dateutil>=2.8.1->pandas->FuzzyTM>=0.4.0->gensim==4.3.0) (1.17.0)\n"
          ]
        }
      ]
    },
    {
      "cell_type": "code",
      "source": [
        "!pip uninstall smart_open -y\n",
        "!pip install smart_open\n"
      ],
      "metadata": {
        "colab": {
          "base_uri": "https://localhost:8080/"
        },
        "id": "k-E-c6l3MHZv",
        "outputId": "85104534-3488-4b50-b53d-8c67ee4fd81a"
      },
      "execution_count": null,
      "outputs": [
        {
          "output_type": "stream",
          "name": "stdout",
          "text": [
            "Found existing installation: smart-open 7.1.0\n",
            "Uninstalling smart-open-7.1.0:\n",
            "  Successfully uninstalled smart-open-7.1.0\n",
            "Collecting smart_open\n",
            "  Downloading smart_open-7.1.0-py3-none-any.whl.metadata (24 kB)\n",
            "Requirement already satisfied: wrapt in /usr/local/lib/python3.10/dist-packages (from smart_open) (1.17.0)\n",
            "Downloading smart_open-7.1.0-py3-none-any.whl (61 kB)\n",
            "\u001b[2K   \u001b[90m━━━━━━━━━━━━━━━━━━━━━━━━━━━━━━━━━━━━━━━━\u001b[0m \u001b[32m61.7/61.7 kB\u001b[0m \u001b[31m3.8 MB/s\u001b[0m eta \u001b[36m0:00:00\u001b[0m\n",
            "\u001b[?25hInstalling collected packages: smart_open\n",
            "Successfully installed smart_open-7.1.0\n"
          ]
        }
      ]
    },
    {
      "cell_type": "code",
      "source": [],
      "metadata": {
        "id": "VgHOJnmiMLHJ"
      },
      "execution_count": null,
      "outputs": []
    },
    {
      "cell_type": "code",
      "source": [],
      "metadata": {
        "id": "lcaO3Eu-MLSr"
      },
      "execution_count": null,
      "outputs": []
    },
    {
      "cell_type": "code",
      "source": [
        "# =====================================================\n",
        "# 1) Gerekli Kütüphanelerin Import Edilmesi\n",
        "# =====================================================\n",
        "import pandas as pd\n",
        "import re\n",
        "import string\n",
        "from zemberek import (\n",
        "    TurkishSpellChecker, TurkishMorphology, TurkishTokenizer\n",
        ")\n",
        "from gensim.models import Word2Vec\n",
        "from google.colab import files\n",
        "\n",
        "# =====================================================\n",
        "# 2) Zemberek Morfoloji ve Sınıfları Yükleme\n",
        "# =====================================================\n",
        "morphology = TurkishMorphology.create_with_defaults()\n",
        "spell_checker = TurkishSpellChecker(morphology)\n",
        "tokenizer = TurkishTokenizer.DEFAULT\n",
        "\n",
        "# =====================================================\n",
        "# 3) Veri Seti Okuma ve Ön İşleme\n",
        "# =====================================================\n",
        "excel_path = \"/content/drive/MyDrive/Türkçe Nefret Söylemi Veriseti.xlsx\"  # Colab'da veri seti yolu\n",
        "# Excel dosyasını yüklediğinizden emin olun.\n",
        "df = pd.read_excel(excel_path, sheet_name=None, header=1)\n",
        "df = pd.concat(df.values(), ignore_index=True)\n",
        "\n",
        "def preprocess_text(text):\n",
        "    text = str(text).lower()\n",
        "    text = re.sub(r\"http\\\\S+\", \"\", text)   # URL'leri kaldır\n",
        "    text = re.sub(r\"@\\\\w+\", \"\", text)      # @kullanıcı kaldır\n",
        "    text = re.sub(r\"#\\\\w+\", \"\", text)      # #hashtag kaldır\n",
        "    text = re.sub(r\"[0-9]\", \"\", text)      # Sayıları kaldır\n",
        "    text = re.sub(r\"[^\\w\\s]\", \"\", text)    # Noktalama işaretlerini kaldır\n",
        "    return text.strip()\n",
        "\n",
        "df['cleaned_text'] = df['Tweet'].apply(preprocess_text)\n",
        "\n",
        "\n"
      ],
      "metadata": {
        "colab": {
          "base_uri": "https://localhost:8080/"
        },
        "id": "1ohJlFFV-_Pn",
        "outputId": "7dfab0da-305a-44d1-9dab-116d76f1c56f"
      },
      "execution_count": null,
      "outputs": [
        {
          "output_type": "stream",
          "name": "stderr",
          "text": [
            "INFO:zemberek.morphology.turkish_morphology:TurkishMorphology instance initialized in 10.34834337234497\n"
          ]
        },
        {
          "output_type": "stream",
          "name": "stdout",
          "text": [
            "2024-12-26 13:39:56,765 - zemberek.morphology.turkish_morphology - INFO\n",
            "Msg: TurkishMorphology instance initialized in 10.34834337234497\n",
            "\n"
          ]
        },
        {
          "output_type": "stream",
          "name": "stderr",
          "text": [
            "<ipython-input-4-efa923a7cb8f>:25: FutureWarning: Inferring datetime64[ns] from data containing strings is deprecated and will be removed in a future version. To retain the old behavior explicitly pass Series(data, dtype=datetime64[ns])\n",
            "  df = pd.read_excel(excel_path, sheet_name=None, header=1)\n",
            "<ipython-input-4-efa923a7cb8f>:25: FutureWarning: Inferring datetime64[ns] from data containing strings is deprecated and will be removed in a future version. To retain the old behavior explicitly pass Series(data, dtype=datetime64[ns])\n",
            "  df = pd.read_excel(excel_path, sheet_name=None, header=1)\n",
            "<ipython-input-4-efa923a7cb8f>:25: FutureWarning: Inferring datetime64[ns] from data containing strings is deprecated and will be removed in a future version. To retain the old behavior explicitly pass Series(data, dtype=datetime64[ns])\n",
            "  df = pd.read_excel(excel_path, sheet_name=None, header=1)\n",
            "<ipython-input-4-efa923a7cb8f>:25: FutureWarning: Inferring datetime64[ns] from data containing strings is deprecated and will be removed in a future version. To retain the old behavior explicitly pass Series(data, dtype=datetime64[ns])\n",
            "  df = pd.read_excel(excel_path, sheet_name=None, header=1)\n",
            "<ipython-input-4-efa923a7cb8f>:25: FutureWarning: Inferring datetime64[ns] from data containing strings is deprecated and will be removed in a future version. To retain the old behavior explicitly pass Series(data, dtype=datetime64[ns])\n",
            "  df = pd.read_excel(excel_path, sheet_name=None, header=1)\n",
            "<ipython-input-4-efa923a7cb8f>:25: FutureWarning: Inferring datetime64[ns] from data containing strings is deprecated and will be removed in a future version. To retain the old behavior explicitly pass Series(data, dtype=datetime64[ns])\n",
            "  df = pd.read_excel(excel_path, sheet_name=None, header=1)\n",
            "<ipython-input-4-efa923a7cb8f>:25: FutureWarning: Inferring datetime64[ns] from data containing strings is deprecated and will be removed in a future version. To retain the old behavior explicitly pass Series(data, dtype=datetime64[ns])\n",
            "  df = pd.read_excel(excel_path, sheet_name=None, header=1)\n",
            "<ipython-input-4-efa923a7cb8f>:25: FutureWarning: Inferring datetime64[ns] from data containing strings is deprecated and will be removed in a future version. To retain the old behavior explicitly pass Series(data, dtype=datetime64[ns])\n",
            "  df = pd.read_excel(excel_path, sheet_name=None, header=1)\n"
          ]
        }
      ]
    },
    {
      "cell_type": "code",
      "source": [
        "\n",
        "# =====================================================\n",
        "# Optimum Yazım Düzeltme Fonksiyonu\n",
        "# =====================================================\n",
        "spell_cache = {}\n",
        "\n",
        "def correct_spelling_optimized(text):\n",
        "    corrected = []\n",
        "    for word in text.split():\n",
        "        if word in spell_cache:\n",
        "            corrected.append(spell_cache[word])\n",
        "        else:\n",
        "            suggestions = spell_checker.suggest_for_word(word)\n",
        "            corrected_word = suggestions[0] if suggestions else word\n",
        "            spell_cache[word] = corrected_word\n",
        "            corrected.append(corrected_word)\n",
        "    return \" \".join(corrected)\n",
        "\n",
        "df['corrected_text'] = df['cleaned_text'].apply(correct_spelling_optimized)\n"
      ],
      "metadata": {
        "id": "cXOXQEOj-_Sl"
      },
      "execution_count": null,
      "outputs": []
    },
    {
      "cell_type": "code",
      "source": [
        "# =====================================================\n",
        "# Tokenizasyon\n",
        "# =====================================================\n",
        "def tokenize_text(text):\n",
        "    tokens = [str(token.content) for token in tokenizer.tokenize(text)]\n",
        "    return tokens\n",
        "\n",
        "df['tokenized'] = df['corrected_text'].apply(tokenize_text)"
      ],
      "metadata": {
        "id": "RtXjRKE3-_VL"
      },
      "execution_count": null,
      "outputs": []
    },
    {
      "cell_type": "code",
      "source": [
        "\n",
        "# Lemmatization\n",
        "# =====================================================\n",
        "def lemmatize(tokens):\n",
        "    lemmas = []\n",
        "    for token in tokens:\n",
        "        analysis = morphology.analyze_sentence(token)\n",
        "        disambiguated = morphology.disambiguate(token, analysis)\n",
        "        lemmas.extend([a.get_stem() for a in disambiguated.best_analysis()])\n",
        "    return lemmas\n",
        "\n",
        "df['lemmatized'] = df['tokenized'].apply(lemmatize)"
      ],
      "metadata": {
        "id": "oKrWv2Tt-_dQ"
      },
      "execution_count": null,
      "outputs": []
    },
    {
      "cell_type": "code",
      "source": [
        "\n",
        "# =====================================================\n",
        "# X ve Y (Lemmatized ve Etiket Kolonları) Kaydetme\n",
        "# =====================================================\n",
        "df[['lemmatized', 'Etiket']].to_csv(\"x_y_dataset.csv\", index=False)\n",
        "\n",
        "print(\"Lemmatized ve Etiket kolonları CSV olarak kaydedildi.\")\n",
        "\n",
        "# Dosyayı indir\n",
        "files.download(\"x_y_dataset.csv\")\n"
      ],
      "metadata": {
        "colab": {
          "base_uri": "https://localhost:8080/",
          "height": 34
        },
        "id": "giNwKP9Z-_f1",
        "outputId": "df91127c-1c34-4bc4-8f64-03c8b0821849"
      },
      "execution_count": null,
      "outputs": [
        {
          "output_type": "stream",
          "name": "stdout",
          "text": [
            "Lemmatized ve Etiket kolonları CSV olarak kaydedildi.\n"
          ]
        },
        {
          "output_type": "display_data",
          "data": {
            "text/plain": [
              "<IPython.core.display.Javascript object>"
            ],
            "application/javascript": [
              "\n",
              "    async function download(id, filename, size) {\n",
              "      if (!google.colab.kernel.accessAllowed) {\n",
              "        return;\n",
              "      }\n",
              "      const div = document.createElement('div');\n",
              "      const label = document.createElement('label');\n",
              "      label.textContent = `Downloading \"${filename}\": `;\n",
              "      div.appendChild(label);\n",
              "      const progress = document.createElement('progress');\n",
              "      progress.max = size;\n",
              "      div.appendChild(progress);\n",
              "      document.body.appendChild(div);\n",
              "\n",
              "      const buffers = [];\n",
              "      let downloaded = 0;\n",
              "\n",
              "      const channel = await google.colab.kernel.comms.open(id);\n",
              "      // Send a message to notify the kernel that we're ready.\n",
              "      channel.send({})\n",
              "\n",
              "      for await (const message of channel.messages) {\n",
              "        // Send a message to notify the kernel that we're ready.\n",
              "        channel.send({})\n",
              "        if (message.buffers) {\n",
              "          for (const buffer of message.buffers) {\n",
              "            buffers.push(buffer);\n",
              "            downloaded += buffer.byteLength;\n",
              "            progress.value = downloaded;\n",
              "          }\n",
              "        }\n",
              "      }\n",
              "      const blob = new Blob(buffers, {type: 'application/binary'});\n",
              "      const a = document.createElement('a');\n",
              "      a.href = window.URL.createObjectURL(blob);\n",
              "      a.download = filename;\n",
              "      div.appendChild(a);\n",
              "      a.click();\n",
              "      div.remove();\n",
              "    }\n",
              "  "
            ]
          },
          "metadata": {}
        },
        {
          "output_type": "display_data",
          "data": {
            "text/plain": [
              "<IPython.core.display.Javascript object>"
            ],
            "application/javascript": [
              "download(\"download_601f213a-1ddc-4ba9-90d5-ebff5b73a13c\", \"x_y_dataset.csv\", 2210060)"
            ]
          },
          "metadata": {}
        }
      ]
    },
    {
      "cell_type": "code",
      "source": [],
      "metadata": {
        "id": "-kuFWzzt-_iv"
      },
      "execution_count": null,
      "outputs": []
    },
    {
      "cell_type": "code",
      "source": [],
      "metadata": {
        "id": "FZSp9Ft2-_lm"
      },
      "execution_count": null,
      "outputs": []
    },
    {
      "cell_type": "markdown",
      "source": [],
      "metadata": {
        "id": "p5PZfmeF-0Dx"
      }
    }
  ]
}